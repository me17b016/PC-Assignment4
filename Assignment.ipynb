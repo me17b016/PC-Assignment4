{
  "nbformat": 4,
  "nbformat_minor": 0,
  "metadata": {
    "colab": {
      "name": "Assignment",
      "provenance": []
    },
    "kernelspec": {
      "name": "python3",
      "display_name": "Python 3"
    },
    "accelerator": "GPU"
  },
  "cells": [
    {
      "cell_type": "code",
      "metadata": {
        "colab": {
          "base_uri": "https://localhost:8080/"
        },
        "id": "Pj8jKiAEUWzA",
        "outputId": "176d48fd-73b5-4b1d-f207-9c125ea30de4"
      },
      "source": [
        "!nvcc --version"
      ],
      "execution_count": 2,
      "outputs": [
        {
          "output_type": "stream",
          "text": [
            "nvcc: NVIDIA (R) Cuda compiler driver\n",
            "Copyright (c) 2005-2019 NVIDIA Corporation\n",
            "Built on Sun_Jul_28_19:07:16_PDT_2019\n",
            "Cuda compilation tools, release 10.1, V10.1.243\n"
          ],
          "name": "stdout"
        }
      ]
    },
    {
      "cell_type": "code",
      "metadata": {
        "colab": {
          "base_uri": "https://localhost:8080/"
        },
        "id": "9bZs0ZO8YIf4",
        "outputId": "33073526-fdbe-40b9-f55b-a13e610ee64d"
      },
      "source": [
        "!pip install git+git://github.com/andreinechaev/nvcc4jupyter.git\r\n",
        "%load_ext nvcc_plugin"
      ],
      "execution_count": 2,
      "outputs": [
        {
          "output_type": "stream",
          "text": [
            "Collecting git+git://github.com/andreinechaev/nvcc4jupyter.git\n",
            "  Cloning git://github.com/andreinechaev/nvcc4jupyter.git to /tmp/pip-req-build-s6_0gxwy\n",
            "  Running command git clone -q git://github.com/andreinechaev/nvcc4jupyter.git /tmp/pip-req-build-s6_0gxwy\n",
            "Building wheels for collected packages: NVCCPlugin\n",
            "  Building wheel for NVCCPlugin (setup.py) ... \u001b[?25l\u001b[?25hdone\n",
            "  Created wheel for NVCCPlugin: filename=NVCCPlugin-0.0.2-cp36-none-any.whl size=4308 sha256=047e5d94bdc62461b7cb01567746e6386550b58894ab42e1f278d8655b51c669\n",
            "  Stored in directory: /tmp/pip-ephem-wheel-cache-iaz_85i7/wheels/10/c2/05/ca241da37bff77d60d31a9174f988109c61ba989e4d4650516\n",
            "Successfully built NVCCPlugin\n",
            "Installing collected packages: NVCCPlugin\n",
            "Successfully installed NVCCPlugin-0.0.2\n",
            "created output directory at /content/src\n",
            "Out bin /content/result.out\n"
          ],
          "name": "stdout"
        }
      ]
    },
    {
      "cell_type": "code",
      "metadata": {
        "colab": {
          "base_uri": "https://localhost:8080/"
        },
        "id": "4qZNuvkuYRu-",
        "outputId": "1a9391d5-a7eb-4553-bbc1-8c9539e1bdfc"
      },
      "source": [
        "%%cu\r\n",
        "#include<stdio.h>\r\n",
        "#include<stdlib.h>\r\n",
        "#include<iostream>\r\n",
        "\r\n",
        "using namespace std;\r\n",
        "\r\n",
        "// Kernel definition\r\n",
        "__global__ void add(int *a, int *b, int *c) \r\n",
        "{\r\n",
        "  *c = *a + *b;\r\n",
        "}\r\n",
        "\r\n",
        "int main() \r\n",
        "{\r\n",
        "\r\n",
        "  int a, b, c;\r\n",
        "  \r\n",
        "  int *d_b, *d_c;\r\n",
        "  int size = sizeof(int);\r\n",
        "  int *d_a = cudaMalloc(size);\r\n",
        "  cudaMalloc((void **)&d_b, size);\r\n",
        "  cudaMalloc((void **)&d_c, size);\r\n",
        "\r\n",
        "  c = 0;\r\n",
        "  a = 3;\r\n",
        "  b = 5;\r\n",
        "\r\n",
        "  cudaMemcpy(d_a, &a, size, cudaMemcpyHostToDevice);\r\n",
        "  cudaMemcpy(d_b, &b, size, cudaMemcpyHostToDevice);\r\n",
        "  \r\n",
        "  add<<<1,1>>>(d_a, d_b, d_c);\r\n",
        "  cudaError err = cudaMemcpy(&c, d_c, size, cudaMemcpyDeviceToHost);\r\n",
        "  if(err!=cudaSuccess) \r\n",
        "  {\r\n",
        "      printf(\"CUDA error copying to Host: %s\\n\", cudaGetErrorString(err));\r\n",
        "  }\r\n",
        "  printf(\"result is %d\\n\",c);\r\n",
        "\r\n",
        "  cudaFree(d_a);\r\n",
        "  cudaFree(d_b);\r\n",
        "  cudaFree(d_c);\r\n",
        "\r\n",
        "  return 0;\r\n",
        "}"
      ],
      "execution_count": 4,
      "outputs": [
        {
          "output_type": "stream",
          "text": [
            "UsageError: Cell magic `%%cu` not found.\n"
          ],
          "name": "stderr"
        }
      ]
    },
    {
      "cell_type": "code",
      "metadata": {
        "colab": {
          "base_uri": "https://localhost:8080/"
        },
        "id": "sBFlk4ptgCCw",
        "outputId": "7485013d-47a0-4995-fd1e-5a1d68a6c1e1"
      },
      "source": [
        "%%cu\r\n",
        "\r\n",
        "#include <stdio.h>\r\n",
        "\r\n",
        "const short N = 10;\r\n",
        "\r\n",
        "__managed__ int a[N], b[N], c[N];\r\n",
        "\r\n",
        "__global__ void Vector_Addition () {\r\n",
        "      //Get the id of thread within a block\r\n",
        "      \r\n",
        "      unsigned short tid = blockDim.x * blockIdx.x + threadIdx.x;\r\n",
        "\r\n",
        "     // check the boundry condition for the threads\r\n",
        "      if (tid < N) c[tid] = a[tid] + b[tid];\r\n",
        "\r\n",
        "}\r\n",
        "\r\n",
        "\r\n",
        "int main (){\r\n",
        "      for (int i = 0; i < N; i++){\r\n",
        "            a[i] = -i ;\r\n",
        "            b[i] = i*i ; \r\n",
        "      }\r\n",
        "      int threadsPerBlock = 256;\r\n",
        "      int blocksPerGrid =(N + threadsPerBlock - 1) / threadsPerBlock;\r\n",
        "      Vector_Addition <<<blocksPerGrid, threadsPerBlock>>> ( ) ;\r\n",
        "      cudaDeviceSynchronize();\r\n",
        "\r\n",
        "      for ( int i = 0; i<N; i++ )\r\n",
        "      printf(\"%d + %d = %d\\n\", a[i] , b[i] , c[i]);\r\n",
        "\r\n",
        "      return 0 ;\r\n",
        "}\r\n"
      ],
      "execution_count": 9,
      "outputs": [
        {
          "output_type": "stream",
          "text": [
            "0 + 0 = 0\n",
            "-1 + 1 = 0\n",
            "-2 + 4 = 2\n",
            "-3 + 9 = 6\n",
            "-4 + 16 = 12\n",
            "-5 + 25 = 20\n",
            "-6 + 36 = 30\n",
            "-7 + 49 = 42\n",
            "-8 + 64 = 56\n",
            "-9 + 81 = 72\n",
            "\n"
          ],
          "name": "stdout"
        }
      ]
    },
    {
      "cell_type": "code",
      "metadata": {
        "colab": {
          "base_uri": "https://localhost:8080/"
        },
        "id": "Dxc8xV3MXehl",
        "outputId": "2f43d7a6-44c1-4009-bc6f-103ec5179cff"
      },
      "source": [
        "%%cu\r\n",
        "#include <iostream>\r\n",
        "using namespace std;\r\n",
        "\r\n",
        "const short N = 16;\r\n",
        "\r\n",
        "__managed__ int a[N];\r\n",
        "\r\n",
        "__global__ void sum() {\r\n",
        "\tconst int tid = threadIdx.x;\r\n",
        "\r\n",
        "\tauto step_size = 1;\r\n",
        "\tint number_of_threads = blockDim.x;\r\n",
        "\r\n",
        "\twhile (number_of_threads > 0)\r\n",
        "\t{\r\n",
        "\t\tif (tid < number_of_threads)\r\n",
        "\t\t{\r\n",
        "\t\t\tconst auto st = tid * step_size * 2;\r\n",
        "\t\t\tconst auto en = st + step_size;\r\n",
        "      if (st < N && en < N)\r\n",
        "\t\t\ta[st] += a[en];\r\n",
        "\t\t}\r\n",
        "\r\n",
        "\t\tstep_size <<= 1; \r\n",
        "\t\tnumber_of_threads >>= 1;\r\n",
        "\t}\r\n",
        "}\r\n",
        "\r\n",
        "int main() {\r\n",
        "  int n = N;\r\n",
        "  if ((n != 1) && (n & (n - 1))) {\r\n",
        "      n |= n >> 1;\r\n",
        "      n |= n >> 2;\r\n",
        "      n |= n >> 4;\r\n",
        "      n |= n >> 8;\r\n",
        "      n |= n >> 16;\r\n",
        "      n = n + 1;\r\n",
        "  }\r\n",
        "\r\n",
        "\tfor (int i = 0; i < N; i++) a[i] = 1;\r\n",
        "\tsum <<<1, n / 2 >>>();\r\n",
        "  cudaDeviceSynchronize();\r\n",
        "  int result = a[0];\r\n",
        "\tcout << \"Sum is \" << result << endl;\r\n",
        "\treturn 0;\r\n",
        "}"
      ],
      "execution_count": 47,
      "outputs": [
        {
          "output_type": "stream",
          "text": [
            "Sum is 16\n",
            "\n"
          ],
          "name": "stdout"
        }
      ]
    },
    {
      "cell_type": "code",
      "metadata": {
        "colab": {
          "base_uri": "https://localhost:8080/"
        },
        "id": "dzp0B2GkpfmM",
        "outputId": "f1f23474-1a9b-4990-9d99-d1f8c8ed1e07"
      },
      "source": [
        "%%cu\r\n",
        "#include <iostream>\r\n",
        "#include <algorithm>\r\n",
        "#include <thrust/host_vector.h>\r\n",
        "#include <thrust/device_vector.h>\r\n",
        "#include <thrust/sort.h>\r\n",
        "#include<thrust/copy.h>\r\n",
        "using namespace std;\r\n",
        "\r\n",
        "const int N = 17;\r\n",
        "\r\n",
        "int main() {\r\n",
        "  thrust::host_vector<int> h(N);\r\n",
        "  for (int i = 0; i < N; i++) h[i] = rand() % 50;\r\n",
        "  for (auto to : h) cout << to << ' ';\r\n",
        "  cout << '\\n';\r\n",
        "  thrust::device_vector<int> d = h;\r\n",
        "  thrust::sort(d.begin(), d.end());\r\n",
        "  thrust::copy(d.begin(), d.end(), h.begin());\r\n",
        "  for (auto to : h) cout << to << ' ';\r\n",
        "  cout << '\\n';\r\n",
        "  return 0;\r\n",
        "}"
      ],
      "execution_count": 73,
      "outputs": [
        {
          "output_type": "stream",
          "text": [
            "33 36 27 15 43 35 36 42 49 21 12 27 40 9 13 26 40 \n",
            "9 12 13 15 21 26 27 27 33 35 36 36 40 40 42 43 49 \n",
            "\n"
          ],
          "name": "stdout"
        }
      ]
    },
    {
      "cell_type": "code",
      "metadata": {
        "colab": {
          "base_uri": "https://localhost:8080/"
        },
        "id": "YYvaYz6YrKhS",
        "outputId": "fc4fcf61-12c8-472d-aae9-41d52d0db532"
      },
      "source": [
        "%%cu\r\n",
        "#include <iostream>\r\n",
        "using namespace std;\r\n",
        "\r\n",
        "const int m = 3, n = 2, p = 4;\r\n",
        "__managed__ int a[m * n], b[n * p], c[m * p];\r\n",
        "\r\n",
        "__global__ void MatrixMultiply() {\r\n",
        "  int row = blockIdx.x * p + threadIdx.x;\r\n",
        "  int col = blockIdx.y * m + threadIdx.y;\r\n",
        "  \r\n",
        "  if(row < m && col < p) {\r\n",
        "    //printf(\"%d %d\\n\", row, col);\r\n",
        "    float tem = 0;\r\n",
        "    for(int k = 0; k < n; k++) {\r\n",
        "        tem += a[row * n + k] * b[k * p + col];\r\n",
        "    }\r\n",
        "    c[row * p + col] = tem;\r\n",
        "  }    \r\n",
        "}\r\n",
        "\r\n",
        "int main() {\r\n",
        "  for (int i = 0; i < m * n; i++) a[i] = rand() % 50;  \r\n",
        "  for (int i = 0; i < n * p; i++) b[i] = rand() % 50;\r\n",
        "  cout << \"Matrix A:\\n\";\r\n",
        "  for (int i = 0; i < m; i++) {\r\n",
        "      for (int j = 0; j < n; j++) cout << a[i * n + j] << ' ';\r\n",
        "      cout << '\\n';\r\n",
        "  }  \r\n",
        "  cout << \"Matrix B:\\n\";\r\n",
        "  for (int i = 0; i < n; i++) {\r\n",
        "      for (int j = 0; j < p; j++) cout << b[i * p + j] << ' ';\r\n",
        "      cout << '\\n';\r\n",
        "  } \r\n",
        "  dim3 threadsPerBlock(m, p);\r\n",
        "  dim3 blocksPerGrid(1, 1);\r\n",
        "  if (m * p > 512){\r\n",
        "    threadsPerBlock.x = 512;\r\n",
        "    threadsPerBlock.y = 512;\r\n",
        "    blocksPerGrid.x = ceil(double(m)/double(threadsPerBlock.x));\r\n",
        "    blocksPerGrid.y = ceil(double(p)/double(threadsPerBlock.y));\r\n",
        "  }\r\n",
        "  MatrixMultiply<<<blocksPerGrid,threadsPerBlock>>>();\r\n",
        "  cudaDeviceSynchronize();\r\n",
        "  cout << \"Matrix C:\\n\";\r\n",
        "  for (int i = 0; i < m; i++) {\r\n",
        "      for (int j = 0; j < p; j++) cout << c[i * p + j] << ' ';\r\n",
        "      cout << '\\n';\r\n",
        "  } \r\n",
        "}"
      ],
      "execution_count": 72,
      "outputs": [
        {
          "output_type": "stream",
          "text": [
            "Matrix A:\n",
            "33 36 \n",
            "27 15 \n",
            "43 35 \n",
            "Matrix B:\n",
            "36 42 49 21 \n",
            "12 27 40 9 \n",
            "Matrix C:\n",
            "1620 2358 3057 1017 \n",
            "1152 1539 1923 702 \n",
            "1968 2751 3507 1218 \n",
            "\n"
          ],
          "name": "stdout"
        }
      ]
    }
  ]
}